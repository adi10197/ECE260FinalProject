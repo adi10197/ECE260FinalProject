{
 "cells": [
  {
   "cell_type": "code",
   "execution_count": 33,
   "metadata": {},
   "outputs": [],
   "source": [
    "import numpy as np\n",
    "# TODO: GET PRECISION BITS ACCURATELY"
   ]
  },
  {
   "cell_type": "code",
   "execution_count": 27,
   "metadata": {},
   "outputs": [],
   "source": [
    "# getting Q\n",
    "\n",
    "q = []\n",
    "with open('qdata.txt', 'r') as f:\n",
    "    count = 0\n",
    "    for line in f:\n",
    "        if count <= 3:\n",
    "            count=count+1\n",
    "            continue\n",
    "        else:\n",
    "            q.append([int(num) for num in line.split('\\t')])"
   ]
  },
  {
   "cell_type": "code",
   "execution_count": 28,
   "metadata": {},
   "outputs": [],
   "source": [
    "# getting k core 1\n",
    "\n",
    "k = []\n",
    "with open('kdata_core0.txt', 'r') as f:\n",
    "    count = 0\n",
    "    for line in f:\n",
    "        if count <= 3:\n",
    "            count=count+1\n",
    "            continue\n",
    "        else:\n",
    "            k.append([int(num) for num in line.split('\\t')])"
   ]
  },
  {
   "cell_type": "code",
   "execution_count": 35,
   "metadata": {},
   "outputs": [],
   "source": [
    "# single core no normalisation\n",
    "result_single_core_no_normalisation = []\n",
    "for i in range(8):\n",
    "    result_single_core_no_normalisation.append([])\n",
    "    for j in range(8):\n",
    "        result_single_core_no_normalisation[i].append(0)\n",
    "\n",
    "for i in range(8):\n",
    "    for j in range(8):\n",
    "        for l in range(16):\n",
    "            result_single_core_no_normalisation[i][j] = result_single_core_no_normalisation[i][j] + q[i][l] * k[j][l]\n",
    "\n",
    "to_write_matrix = np.matrix(result_single_core_no_normalisation)\n",
    "with open('result_single_core_no_normalisation.txt','wb') as f:\n",
    "    for line in to_write_matrix:\n",
    "        np.savetxt(f, line, fmt='%.2f')"
   ]
  },
  {
   "cell_type": "code",
   "execution_count": 36,
   "metadata": {},
   "outputs": [],
   "source": [
    "# single core normalisation\n",
    "result_single_core_normalisation = result_single_core_no_normalisation\n",
    "for i in range(8):\n",
    "    for j in range(8):\n",
    "        result_single_core_normalisation[i][j] = float(result_single_core_no_normalisation[i][j])\n",
    "\n",
    "for i in range(8):\n",
    "    current_sum = 0.0\n",
    "    for j in range(8):\n",
    "        current_sum += abs(result_single_core_normalisation[i][j])\n",
    "    for j in range(8):\n",
    "        result_single_core_normalisation[i][j] = result_single_core_normalisation[i][j] / current_sum\n",
    "\n",
    "to_write_matrix = np.matrix(result_single_core_normalisation)\n",
    "with open('result_single_core_normalisation.txt','wb') as f:\n",
    "    for line in to_write_matrix:\n",
    "        np.savetxt(f, line, fmt='%.2f')"
   ]
  },
  {
   "cell_type": "code",
   "execution_count": 37,
   "metadata": {},
   "outputs": [],
   "source": [
    "# dual core normalisation\n",
    "k_dual_core = k\n",
    "with open('kdata_core1.txt', 'r') as f:\n",
    "    count = 0\n",
    "    for line in f:\n",
    "        if count <= 3:\n",
    "            count=count+1\n",
    "            continue\n",
    "        else:\n",
    "            k_dual_core.append([int(num) for num in line.split('\\t')])\n",
    "\n",
    "# dual core no normalisation\n",
    "result_dual_core_no_normalisation = []\n",
    "for i in range(8):\n",
    "    result_dual_core_no_normalisation.append([])\n",
    "    for j in range(16):\n",
    "        result_dual_core_no_normalisation[i].append(0)\n",
    "\n",
    "for i in range(8):\n",
    "    for j in range(16):\n",
    "        for l in range(16):\n",
    "            result_dual_core_no_normalisation[i][j] = result_dual_core_no_normalisation[i][j] + q[i][l] * k_dual_core[j][l]\n",
    "\n",
    "# normalization\n",
    "\n",
    "result_dual_core_normalisation = result_dual_core_no_normalisation\n",
    "for i in range(8):\n",
    "    for j in range(16):\n",
    "        result_dual_core_normalisation[i][j] = float(result_dual_core_no_normalisation[i][j])\n",
    "\n",
    "for i in range(8):\n",
    "    current_sum = 0.0\n",
    "    for j in range(16):\n",
    "        current_sum += abs(result_dual_core_no_normalisation[i][j])\n",
    "    for j in range(16):\n",
    "        result_dual_core_normalisation[i][j] = result_dual_core_no_normalisation[i][j] / current_sum\n",
    "\n",
    "to_write_matrix = np.matrix(result_dual_core_normalisation)\n",
    "with open('result_dual_core_normalisation.txt','wb') as f:\n",
    "    for line in to_write_matrix:\n",
    "        np.savetxt(f, line, fmt='%.2f')"
   ]
  }
 ],
 "metadata": {
  "interpreter": {
   "hash": "31f2aee4e71d21fbe5cf8b01ff0e069b9275f58929596ceb00d14d90e3e16cd6"
  },
  "kernelspec": {
   "display_name": "Python 3.8.9 64-bit",
   "language": "python",
   "name": "python3"
  },
  "language_info": {
   "codemirror_mode": {
    "name": "ipython",
    "version": 3
   },
   "file_extension": ".py",
   "mimetype": "text/x-python",
   "name": "python",
   "nbconvert_exporter": "python",
   "pygments_lexer": "ipython3",
   "version": "3.8.9"
  },
  "orig_nbformat": 4
 },
 "nbformat": 4,
 "nbformat_minor": 2
}
